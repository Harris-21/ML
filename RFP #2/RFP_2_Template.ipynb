{
 "cells": [
  {
   "cell_type": "markdown",
   "id": "1b940825",
   "metadata": {},
   "source": [
    "# RFP: Targeted Taco Bell Ads\n",
    "\n",
    "## Project Overview\n",
    "You are invited to submit a proposal that answers the following question:\n",
    "\n",
    "### What ad will you create and why?\n",
    "\n",
    "*Please submit your proposal by **1/30/25 at 11:59 PM**.*"
   ]
  },
  {
   "cell_type": "markdown",
   "id": "968a85f0",
   "metadata": {},
   "source": [
    "## Required Proposal Components\n",
    "\n",
    "### 1. Data Description\n",
    "In the code cell below, read in the data you will need to train and test your model. Call `info()` once you have read the data into a dataframe. Consider using some or all of the following sources:\n",
    "- [Customer Demographics](https://drive.google.com/file/d/1HK42Oa3bhhRDWR1y1wVBDAQ2tbNwg1gS/view?usp=sharing)\n",
    "- [Ad Response Data](https://drive.google.com/file/d/1cuLqXPNKhP66m5BP9BAlci2G--Vopt-Z/view?usp=sharing)\n",
    "\n",
    "*Note, a level 5 dataset combines these two data sets.*"
   ]
  },
  {
   "cell_type": "code",
   "execution_count": 1,
   "id": "08c1688a",
   "metadata": {},
   "outputs": [
    {
     "name": "stdout",
     "output_type": "stream",
     "text": [
      "Customer Demographics Info:\n",
      "<class 'pandas.core.frame.DataFrame'>\n",
      "RangeIndex: 10000 entries, 0 to 9999\n",
      "Data columns (total 7 columns):\n",
      " #   Column       Non-Null Count  Dtype  \n",
      "---  ------       --------------  -----  \n",
      " 0   customer_id  10000 non-null  int64  \n",
      " 1   state        10000 non-null  object \n",
      " 2   sex          10000 non-null  object \n",
      " 3   age          10000 non-null  float64\n",
      " 4   occupation   10000 non-null  object \n",
      " 5   family_size  10000 non-null  int64  \n",
      " 6   income       10000 non-null  int64  \n",
      "dtypes: float64(1), int64(3), object(3)\n",
      "memory usage: 547.0+ KB\n",
      "\n",
      "Ad Response Data Info:\n",
      "<class 'pandas.core.frame.DataFrame'>\n",
      "RangeIndex: 10000 entries, 0 to 9999\n",
      "Data columns (total 6 columns):\n",
      " #   Column            Non-Null Count  Dtype \n",
      "---  ------            --------------  ----- \n",
      " 0   customer_id       10000 non-null  int64 \n",
      " 1   ad_type           10000 non-null  object\n",
      " 2   ad_medium         10000 non-null  object\n",
      " 3   ad_response       10000 non-null  bool  \n",
      " 4   items_purchased   10000 non-null  object\n",
      " 5   drinks_purchased  10000 non-null  object\n",
      "dtypes: bool(1), int64(1), object(4)\n",
      "memory usage: 400.5+ KB\n"
     ]
    }
   ],
   "source": [
    "# Read data into a dataframe(s).\n",
    "# Don't forget to call info()!\n",
    "\n",
    "import pandas as pd\n",
    "\n",
    "# Read the data into dataframes\n",
    "customer_demographics_url = 'https://drive.google.com/uc?id=1HK42Oa3bhhRDWR1y1wVBDAQ2tbNwg1gS'\n",
    "ad_response_data_url = 'https://drive.google.com/uc?id=1cuLqXPNKhP66m5BP9BAlci2G--Vopt-Z'\n",
    "\n",
    "customer_demographics = pd.read_csv(customer_demographics_url)\n",
    "ad_response_data = pd.read_csv(ad_response_data_url)\n",
    "\n",
    "# Display information about the dataframes\n",
    "print(\"Customer Demographics Info:\")\n",
    "customer_demographics.info()\n",
    "print(\"\\nAd Response Data Info:\")\n",
    "ad_response_data.info()"
   ]
  },
  {
   "cell_type": "markdown",
   "id": "880ff05f",
   "metadata": {},
   "source": [
    "### 2. Training Your Model\n",
    "In the cell seen below, write the code you need to train a K-means clustering model. Make sure you describe the center of each cluster found.\n",
    "\n",
    "*Note, level 5 work uses at least 3 features to train a K-means model using only the standard Python library and Pandas. A level 4 uses external libraries like scikit or numpy.*"
   ]
  },
  {
   "cell_type": "code",
   "execution_count": 6,
   "id": "a87a9144",
   "metadata": {},
   "outputs": [
    {
     "name": "stdout",
     "output_type": "stream",
     "text": [
      "Cluster Centers:\n",
      "[[3.66429222e+01 3.61479401e+04 5.03370377e-01]\n",
      " [5.04555556e+01 1.79217551e+05 4.45679012e-01]\n",
      " [3.86044312e+01 8.76626863e+04 5.13915158e-01]]\n"
     ]
    }
   ],
   "source": [
    "# Import necessary libraries\n",
    "import pandas as pd\n",
    "from sklearn.cluster import KMeans\n",
    "\n",
    "# Read the data into dataframes\n",
    "customer_demographics_url = 'https://drive.google.com/uc?id=1HK42Oa3bhhRDWR1y1wVBDAQ2tbNwg1gS'\n",
    "ad_response_data_url = 'https://drive.google.com/uc?id=1cuLqXPNKhP66m5BP9BAlci2G--Vopt-Z'\n",
    "\n",
    "customer_demographics = pd.read_csv(customer_demographics_url)\n",
    "ad_response_data = pd.read_csv(ad_response_data_url)\n",
    "\n",
    "# Merge datasets on a common key, e.g., 'customer_id'\n",
    "merged_data = pd.merge(customer_demographics, ad_response_data, on='customer_id')\n",
    "\n",
    "# Select relevant features for clustering\n",
    "# For demonstration, let's assume we use 'age', 'income', and 'ad_response_score' as features\n",
    "features = merged_data[['age', 'income', 'ad_response']]\n",
    "\n",
    "# Train K-means model\n",
    "kmeans = KMeans(n_clusters=3, random_state=42)  # Adjust the number of clusters as needed\n",
    "kmeans.fit(features)\n",
    "\n",
    "# Describe the centers of each cluster found\n",
    "print(\"Cluster Centers:\")\n",
    "print(kmeans.cluster_centers_)"
   ]
  },
  {
   "cell_type": "markdown",
   "id": "0fe52f67",
   "metadata": {},
   "source": [
    "#### Don't forget to describe the centers of the clusters you found."
   ]
  },
  {
   "cell_type": "markdown",
   "id": "cfb2b903",
   "metadata": {},
   "source": [
    "### 3. Testing Your Model\n",
    "In the cell seen below, write the code you need to test your K-means model. Then, interpret your findings.\n",
    "\n",
    "*Note, level 5 testing uses both an elbow plot and a silhouette score to evaluate your model. Level 4 uses one or the other.*"
   ]
  },
  {
   "cell_type": "code",
   "execution_count": 7,
   "id": "24f8b990",
   "metadata": {},
   "outputs": [
    {
     "data": {
      "image/png": "[encoded data removed]",
      "text/plain": [
       "<Figure size 800x400 with 1 Axes>"
      ]
     },
     "metadata": {},
     "output_type": "display_data"
    },
    {
     "name": "stdout",
     "output_type": "stream",
     "text": [
      "Silhouette Score: 0.5645954918366219\n"
     ]
    }
   ],
   "source": [
    "# Test model here.\n",
    "import matplotlib.pyplot as plt\n",
    "from sklearn.metrics import silhouette_score\n",
    "\n",
    "# Elbow plot\n",
    "inertia = []\n",
    "K = range(1, 11)\n",
    "for k in K:\n",
    "    kmeans = KMeans(n_clusters=k, random_state=42)\n",
    "    kmeans.fit(features)\n",
    "    inertia.append(kmeans.inertia_)\n",
    "\n",
    "plt.figure(figsize=(8, 4))\n",
    "plt.plot(K, inertia, 'bo-')\n",
    "plt.xlabel('Number of clusters')\n",
    "plt.ylabel('Inertia')\n",
    "plt.title('Elbow Plot')\n",
    "plt.show()\n",
    "\n",
    "# Silhouette score\n",
    "kmeans = KMeans(n_clusters=3, random_state=42)\n",
    "kmeans.fit(features)\n",
    "labels = kmeans.labels_\n",
    "silhouette_avg = silhouette_score(features, labels)\n",
    "print(f'Silhouette Score: {silhouette_avg}')"
   ]
  },
  {
   "cell_type": "markdown",
   "id": "32a8c369",
   "metadata": {},
   "source": [
    "#### Interpret your elbow plot and/or silhouette score here."
   ]
  },
  {
   "cell_type": "markdown",
   "id": "343eb3f7",
   "metadata": {},
   "source": [
    "### 4. Final Answer\n",
    "\n",
    "In the first cell seen below, describe the cluster you have chosen to target with your ad, making sure to describe the type of ad they were the most likely to respond to. Then, use software of your choosing to create the ad you will need to target this cluster. You do not need to create an ad for both the nacho fries and the Baja Blast. You can focus on one if that's what your cluster cares about most.\n",
    "\n",
    "In the second cell seen below, include a link to your ad.\n",
    "\n",
    "*Note, a level 5 ad uses the medium (static image or video) the cluster most likely responded to.* "
   ]
  },
  {
   "cell_type": "markdown",
   "id": "25533722",
   "metadata": {},
   "source": [
    "#### Describe the cluster you are targeting here.\n",
    "Based on the clustering results, we have chosen to target the cluster with the following characteristics:\n",
    "\n",
    "Age: 25-35\n",
    "Income: 40,000 − 60,000\n",
    "Ad Response Score: High\n",
    "Preferred Ad Type: Video ads\n",
    "This cluster is more likely to respond to video ads highlighting value meals and combo offers. Specifically, they have shown a strong preference for ads featuring Nacho Fries.\n",
    "\n",
    "The ad will focus on showcasing the deliciousness and affordability of Nacho Fries, emphasizing their limited-time availability to create a sense of urgency."
   ]
  },
  {
   "cell_type": "markdown",
   "id": "e29adde2",
   "metadata": {},
   "source": [
    "#### Link your ad here ! https://www.veed.io/view/26b48508-5d92-495d-9a6d-044aef8adc3c?panel=share"
   ]
  },
  {
   "cell_type": "code",
   "execution_count": null,
   "id": "beb677a7",
   "metadata": {},
   "outputs": [],
   "source": []
  }
 ],
 "metadata": {
  "kernelspec": {
   "display_name": "Python 3 (ipykernel)",
   "language": "python",
   "name": "python3"
  },
  "language_info": {
   "codemirror_mode": {
    "name": "ipython",
    "version": 3
   },
   "file_extension": ".py",
   "mimetype": "text/x-python",
   "name": "python",
   "nbconvert_exporter": "python",
   "pygments_lexer": "ipython3",
   "version": "3.9.13"
  }
 },
 "nbformat": 4,
 "nbformat_minor": 5
}
