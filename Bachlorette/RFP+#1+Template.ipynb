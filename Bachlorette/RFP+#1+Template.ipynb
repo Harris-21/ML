{
 "cells": [
  {
   "cell_type": "markdown",
   "id": "1b940825",
   "metadata": {},
   "source": [
    "# RFP: Betting on the Bachelor\n",
    "\n",
    "## Project Overview\n",
    "You are invited to submit a proposal that answers the following question:\n",
    "\n",
    "### Who will win season 29 of the Bachelor?\n",
    "\n",
    "*All proposals must be submitted by **1/15/25 at 11:59 PM**.*"
   ]
  },
  {
   "cell_type": "markdown",
   "id": "968a85f0",
   "metadata": {},
   "source": [
    "## Required Proposal Components\n",
    "\n",
    "### 1. Data Description\n",
    "In the code cell below, read in the data you plan on using to train and test your model. Call `info()` once you have read the data into a dataframe. Consider using some or all of the following sources:\n",
    "- [Scrape Fandom Wikis](https://bachelor-nation.fandom.com/wiki/The_Bachelor) or [the official Bachelor website]('https://bachelornation.com/shows/the-bachelor/')\n",
    "- [Ask ChatGPT to genereate it](https://chatgpt.com/)\n",
    "- [Read in csv files like this](https://www.kaggle.com/datasets/brianbgonz/the-bachelor-contestants?select=contestants.csv)\n",
    "\n",
    "*Note, a level 5 dataset contains at least 1000 rows of non-null data. A level 4 contains at least 500 rows of non-null data.*"
   ]
  },
  {
   "cell_type": "code",
   "execution_count": 3,
   "id": "08c1688a",
   "metadata": {},
   "outputs": [
    {
     "name": "stdout",
     "output_type": "stream",
     "text": [
      "<class 'pandas.core.frame.DataFrame'>\n",
      "RangeIndex: 10 entries, 0 to 9\n",
      "Data columns (total 6 columns):\n",
      " #   Column           Non-Null Count  Dtype \n",
      "---  ------           --------------  ----- \n",
      " 0   Name             10 non-null     object\n",
      " 1   Age              10 non-null     int64 \n",
      " 2   Occupation       10 non-null     object\n",
      " 3   Hometown         10 non-null     object\n",
      " 4   Number of Roses  10 non-null     int64 \n",
      " 5   Final Position   10 non-null     int64 \n",
      "dtypes: int64(3), object(3)\n",
      "memory usage: 608.0+ bytes\n"
     ]
    },
    {
     "data": {
      "text/plain": [
       "{'info': None,\n",
       " 'head':            Name  Age         Occupation         Hometown  Number of Roses  \\\n",
       " 0  Emma Johnson   25            Teacher      Chicago, IL                5   \n",
       " 1    Liam Smith   28           Engineer       Austin, TX                3   \n",
       " 2  Olivia Brown   26  Marketing Manager  Los Angeles, CA                6   \n",
       " 3    Noah Davis   30             Doctor     New York, NY                8   \n",
       " 4    Ava Wilson   24             Artist     Portland, OR                2   \n",
       " \n",
       "    Final Position  \n",
       " 0               4  \n",
       " 1               6  \n",
       " 2               3  \n",
       " 3               1  \n",
       " 4               8  ,\n",
       " 'summary':                 Name        Age Occupation     Hometown  Number of Roses  \\\n",
       " count             10  10.000000         10           10         10.00000   \n",
       " unique            10        NaN         10           10              NaN   \n",
       " top     Emma Johnson        NaN    Teacher  Chicago, IL              NaN   \n",
       " freq               1        NaN          1            1              NaN   \n",
       " mean             NaN  26.900000        NaN          NaN          4.80000   \n",
       " std              NaN   2.601282        NaN          NaN          2.65832   \n",
       " min              NaN  23.000000        NaN          NaN          1.00000   \n",
       " 25%              NaN  25.250000        NaN          NaN          3.00000   \n",
       " 50%              NaN  26.500000        NaN          NaN          4.50000   \n",
       " 75%              NaN  28.750000        NaN          NaN          6.75000   \n",
       " max              NaN  31.000000        NaN          NaN          9.00000   \n",
       " \n",
       "         Final Position  \n",
       " count         10.00000  \n",
       " unique             NaN  \n",
       " top                NaN  \n",
       " freq               NaN  \n",
       " mean           5.50000  \n",
       " std            3.02765  \n",
       " min            1.00000  \n",
       " 25%            3.25000  \n",
       " 50%            5.50000  \n",
       " 75%            7.75000  \n",
       " max           10.00000  ,\n",
       " 'missing_values': Name               0\n",
       " Age                0\n",
       " Occupation         0\n",
       " Hometown           0\n",
       " Number of Roses    0\n",
       " Final Position     0\n",
       " dtype: int64}"
      ]
     },
     "execution_count": 3,
     "metadata": {},
     "output_type": "execute_result"
    }
   ],
   "source": [
    "# Load the CSV file\n",
    "file_path = \"bachelorette_contestants.csv\"\n",
    "data = pd.read_csv(file_path)\n",
    "\n",
    "# Data Description\n",
    "data_description = {\n",
    "    \"info\": data.info(),\n",
    "    \"head\": data.head(),\n",
    "    \"summary\": data.describe(include=\"all\"),\n",
    "    \"missing_values\": data.isnull().sum(),\n",
    "}\n",
    "\n",
    "data_description"
   ]
  },
  {
   "cell_type": "markdown",
   "id": "880ff05f",
   "metadata": {},
   "source": [
    "### 2. Training Your Model\n",
    "In the cell seen below, write the code you need to train a linear regression model. Make sure you display the equation of the plane that best fits your chosen data at the end of your program. \n",
    "\n",
    "*Note, level 5 work trains a model using only the standard Python library and Pandas. A level 5 model is trained with at least two features, where one of the features begins as a categorical value (e.g. occupation, hometown, etc.). A level 4 uses external libraries like scikit or numpy.*"
   ]
  },
  {
   "cell_type": "code",
   "execution_count": 21,
   "id": "a87a9144",
   "metadata": {},
   "outputs": [
    {
     "ename": "AttributeError",
     "evalue": "'DataFrame' object has no attribute 'invert'",
     "output_type": "error",
     "traceback": [
      "\u001b[1;31m---------------------------------------------------------------------------\u001b[0m",
      "\u001b[1;31mAttributeError\u001b[0m                            Traceback (most recent call last)",
      "\u001b[1;32m~\\AppData\\Local\\Temp\\ipykernel_19048\\3641787243.py\u001b[0m in \u001b[0;36m<module>\u001b[1;34m\u001b[0m\n\u001b[0;32m     22\u001b[0m \u001b[0mX_transpose\u001b[0m \u001b[1;33m=\u001b[0m \u001b[0mX_matrix\u001b[0m\u001b[1;33m.\u001b[0m\u001b[0mT\u001b[0m\u001b[1;33m\u001b[0m\u001b[1;33m\u001b[0m\u001b[0m\n\u001b[0;32m     23\u001b[0m coefficients = (\n\u001b[1;32m---> 24\u001b[1;33m     pd.DataFrame(\n\u001b[0m\u001b[0;32m     25\u001b[0m         \u001b[0mX_transpose\u001b[0m \u001b[1;33m@\u001b[0m \u001b[0mX_matrix\u001b[0m\u001b[1;33m\u001b[0m\u001b[1;33m\u001b[0m\u001b[0m\n\u001b[0;32m     26\u001b[0m     )  # X.T @ X\n",
      "\u001b[1;32mC:\\ProgramData\\Anaconda3\\lib\\site-packages\\pandas\\core\\generic.py\u001b[0m in \u001b[0;36m__getattr__\u001b[1;34m(self, name)\u001b[0m\n\u001b[0;32m   5573\u001b[0m         ):\n\u001b[0;32m   5574\u001b[0m             \u001b[1;32mreturn\u001b[0m \u001b[0mself\u001b[0m\u001b[1;33m[\u001b[0m\u001b[0mname\u001b[0m\u001b[1;33m]\u001b[0m\u001b[1;33m\u001b[0m\u001b[1;33m\u001b[0m\u001b[0m\n\u001b[1;32m-> 5575\u001b[1;33m         \u001b[1;32mreturn\u001b[0m \u001b[0mobject\u001b[0m\u001b[1;33m.\u001b[0m\u001b[0m__getattribute__\u001b[0m\u001b[1;33m(\u001b[0m\u001b[0mself\u001b[0m\u001b[1;33m,\u001b[0m \u001b[0mname\u001b[0m\u001b[1;33m)\u001b[0m\u001b[1;33m\u001b[0m\u001b[1;33m\u001b[0m\u001b[0m\n\u001b[0m\u001b[0;32m   5576\u001b[0m \u001b[1;33m\u001b[0m\u001b[0m\n\u001b[0;32m   5577\u001b[0m     \u001b[1;32mdef\u001b[0m \u001b[0m__setattr__\u001b[0m\u001b[1;33m(\u001b[0m\u001b[0mself\u001b[0m\u001b[1;33m,\u001b[0m \u001b[0mname\u001b[0m\u001b[1;33m:\u001b[0m \u001b[0mstr\u001b[0m\u001b[1;33m,\u001b[0m \u001b[0mvalue\u001b[0m\u001b[1;33m)\u001b[0m \u001b[1;33m->\u001b[0m \u001b[1;32mNone\u001b[0m\u001b[1;33m:\u001b[0m\u001b[1;33m\u001b[0m\u001b[1;33m\u001b[0m\u001b[0m\n",
      "\u001b[1;31mAttributeError\u001b[0m: 'DataFrame' object has no attribute 'invert'"
     ]
    }
   ],
   "source": [
    "import pandas as pd\n",
    "# Load historical data\n",
    "historical_file_path = \"historical_data.csv\"\n",
    "historical_df = pd.read_csv(historical_file_path)\n",
    "\n",
    "# Encode the categorical column \"Occupation\" manually\n",
    "occupation_mapping = {occupation: idx for idx, occupation in enumerate(historical_df[\"Occupation\"].unique())}\n",
    "historical_df[\"Occupation_Encoded\"] = historical_df[\"Occupation\"].map(occupation_mapping)\n",
    "\n",
    "# Define features (X) and target (y)\n",
    "X = historical_df[[\"Age\", \"Occupation_Encoded\"]]\n",
    "y = historical_df[\"Winner\"]\n",
    "\n",
    "# Compute coefficients manually using the least squares method\n",
    "# Linear regression equation: y = b0 + b1*x1 + b2*x2\n",
    "# Where b = (X.T @ X)^-1 @ X.T @ y\n",
    "X_with_bias = pd.DataFrame({\"bias\": 1, \"Age\": X[\"Age\"], \"Occupation_Encoded\": X[\"Occupation_Encoded\"]})\n",
    "X_matrix = X_with_bias.to_numpy()\n",
    "y_vector = y.to_numpy()\n",
    "\n",
    "# Perform least squares calculation\n",
    "X_transpose = X_matrix.T\n",
    "coefficients = (\n",
    "    pd.DataFrame(\n",
    "        X_transpose @ X_matrix\n",
    "    )  # X.T @ X\n",
    "    .invert()  # (X.T @ X)^-1\n",
    "    @ (X_transpose @ y_vector)  # (X.T @ y)\n",
    ")\n",
    "\n",
    "# Display the linear regression equation\n",
    "b0, b1, b2 = coefficients\n",
    "print(f\"Linear Regression Equation: Winner = {b0:.3f} + {b1:.3f} * Age + {b2:.3f} * Occupation_Encoded\")"
   ]
  },
  {
   "cell_type": "markdown",
   "id": "cfb2b903",
   "metadata": {},
   "source": [
    "### 3. Testing Your Model\n",
    "In the cell seen below, write the code you need to test your linear regression model. \n",
    "\n",
    "*Note, a model is considered a level 5 if it achieves at least 60% prediction accuracy or achieves an RMSE of 2 weeks or less.*"
   ]
  },
  {
   "cell_type": "code",
   "execution_count": null,
   "id": "24f8b990",
   "metadata": {},
   "outputs": [],
   "source": []
  },
  {
   "cell_type": "markdown",
   "id": "343eb3f7",
   "metadata": {},
   "source": [
    "### 4. Final Answer\n",
    "\n",
    "In the first cell seen below, state the name of your predicted winner. \n",
    "In the second cell seen below, justify your prediction using an evaluation technique like RMSE or percent accuracy."
   ]
  },
  {
   "cell_type": "markdown",
   "id": "25533722",
   "metadata": {},
   "source": [
    "\n"
   ]
  },
  {
   "cell_type": "markdown",
   "id": "e29adde2",
   "metadata": {},
   "source": [
    "\n"
   ]
  },
  {
   "cell_type": "code",
   "execution_count": 10,
   "id": "88933c15",
   "metadata": {},
   "outputs": [
    {
     "name": "stdout",
     "output_type": "stream",
     "text": [
      "Predicted Winner Name: Participant_560\n",
      "Predicted Winner Details:\n",
      " Name                          Participant_560\n",
      "Age                                        34\n",
      "Hometown_Score                       2.156038\n",
      "Occupation_Score                     1.693702\n",
      "Screen_Time                        156.952029\n",
      "Elimination_Week                            3\n",
      "Predicted_Elimination_Week           4.107568\n",
      "Name: 559, dtype: object\n"
     ]
    }
   ],
   "source": [
    "test_predictions = pd.DataFrame({\n",
    "    'Actual_Elimination_Week': y_test,\n",
    "    'Predicted_Elimination_Week': y_pred\n",
    "}, index=y_test.index)\n",
    "\n",
    "# Combine predictions with the original dataset for analysis\n",
    "data_with_predictions = data.loc[y_test.index].copy()\n",
    "data_with_predictions['Predicted_Elimination_Week'] = y_pred\n",
    "\n",
    "# Identify the predicted winner (lowest predicted elimination week in the test set)\n",
    "predicted_winner = data_with_predictions.loc[data_with_predictions['Predicted_Elimination_Week'].idxmin()]\n",
    "\n",
    "print(\"Predicted Winner Name:\", predicted_winner['Name'])\n",
    "print(\"Predicted Winner Details:\\n\", predicted_winner)"
   ]
  },
  {
   "cell_type": "code",
   "execution_count": 4,
   "id": "b84bccff",
   "metadata": {},
   "outputs": [
    {
     "name": "stdout",
     "output_type": "stream",
     "text": [
      "Accuracy: 0.5\n",
      "Classification Report:\n",
      "               precision    recall  f1-score   support\n",
      "\n",
      "           0       0.50      1.00      0.67         1\n",
      "           1       0.00      0.00      0.00         1\n",
      "\n",
      "    accuracy                           0.50         2\n",
      "   macro avg       0.25      0.50      0.33         2\n",
      "weighted avg       0.25      0.50      0.33         2\n",
      "\n",
      "Predicted Winner(s):\n",
      "            Name  Age Occupation     Hometown  Group_Date_Participation  \\\n",
      "3  Contestant 4   29      Nurse  Seattle, WA                         1   \n",
      "\n",
      "   Winner_Prediction  \n",
      "3                  1  \n",
      "Predictions saved to: season_29_predictions.csv\n"
     ]
    },
    {
     "name": "stderr",
     "output_type": "stream",
     "text": [
      "C:\\ProgramData\\Anaconda3\\lib\\site-packages\\sklearn\\metrics\\_classification.py:1318: UndefinedMetricWarning: Precision and F-score are ill-defined and being set to 0.0 in labels with no predicted samples. Use `zero_division` parameter to control this behavior.\n",
      "  _warn_prf(average, modifier, msg_start, len(result))\n",
      "C:\\ProgramData\\Anaconda3\\lib\\site-packages\\sklearn\\metrics\\_classification.py:1318: UndefinedMetricWarning: Precision and F-score are ill-defined and being set to 0.0 in labels with no predicted samples. Use `zero_division` parameter to control this behavior.\n",
      "  _warn_prf(average, modifier, msg_start, len(result))\n",
      "C:\\ProgramData\\Anaconda3\\lib\\site-packages\\sklearn\\metrics\\_classification.py:1318: UndefinedMetricWarning: Precision and F-score are ill-defined and being set to 0.0 in labels with no predicted samples. Use `zero_division` parameter to control this behavior.\n",
      "  _warn_prf(average, modifier, msg_start, len(result))\n"
     ]
    }
   ],
   "source": [
    "import pandas as pd\n",
    "from sklearn.model_selection import train_test_split\n",
    "from sklearn.linear_model import LogisticRegression\n",
    "from sklearn.metrics import accuracy_score, classification_report\n",
    "\n",
    "# Load historical data (you need to update this with the actual historical data file path)\n",
    "historical_file_path = 'historical_data.csv'  # Replace with actual file path\n",
    "historical_data = pd.read_csv(historical_file_path)\n",
    "\n",
    "# Load Season 29 data\n",
    "season_29_file_path = 'season_29_contestants.csv'\n",
    "season_29_data = pd.read_csv(season_29_file_path)\n",
    "\n",
    "# Step 1: Prepare historical data\n",
    "# Select features (X) and target (y) for training\n",
    "X = historical_data[['Age', 'Occupation', 'Hometown', 'Group_Date_Participation']]\n",
    "y = historical_data['Winner']  # Target: 1 for winner, 0 otherwise\n",
    "\n",
    "# One-hot encode categorical features\n",
    "X = pd.get_dummies(X, drop_first=True)\n",
    "\n",
    "# Step 2: Train-test split and train the model\n",
    "X_train, X_test, y_train, y_test = train_test_split(X, y, test_size=0.2, random_state=42)\n",
    "\n",
    "model = LogisticRegression()\n",
    "model.fit(X_train, y_train)\n",
    "\n",
    "# Step 3: Evaluate the model\n",
    "y_pred = model.predict(X_test)\n",
    "print(\"Accuracy:\", accuracy_score(y_test, y_pred))\n",
    "print(\"Classification Report:\\n\", classification_report(y_test, y_pred))\n",
    "\n",
    "# Step 4: Prepare Season 29 data for prediction\n",
    "season_29_features = season_29_data[['Age', 'Occupation', 'Hometown', 'Group_Date_Participation']]\n",
    "season_29_features = pd.get_dummies(season_29_features, drop_first=True)\n",
    "\n",
    "# Ensure the Season 29 features match the model's training features\n",
    "season_29_features = season_29_features.reindex(columns=X.columns, fill_value=0)\n",
    "\n",
    "# Step 5: Predict outcomes for Season 29 contestants\n",
    "season_29_data['Winner_Prediction'] = model.predict(season_29_features)\n",
    "\n",
    "# Step 6: Identify predicted winner(s)\n",
    "winners = season_29_data[season_29_data['Winner_Prediction'] == 1]\n",
    "print(\"Predicted Winner(s):\\n\", winners)\n",
    "\n",
    "# Save predictions to a new CSV file\n",
    "output_file_path = \"season_29_predictions.csv\"\n",
    "season_29_data.to_csv(output_file_path, index=False)\n",
    "print(f\"Predictions saved to: {output_file_path}\")\n"
   ]
  },
  {
   "cell_type": "code",
   "execution_count": null,
   "id": "ef5d46c1",
   "metadata": {},
   "outputs": [],
   "source": []
  }
 ],
 "metadata": {
  "kernelspec": {
   "display_name": "Python 3 (ipykernel)",
   "language": "python",
   "name": "python3"
  },
  "language_info": {
   "codemirror_mode": {
    "name": "ipython",
    "version": 3
   },
   "file_extension": ".py",
   "mimetype": "text/x-python",
   "name": "python",
   "nbconvert_exporter": "python",
   "pygments_lexer": "ipython3",
   "version": "3.9.13"
  }
 },
 "nbformat": 4,
 "nbformat_minor": 5
}
