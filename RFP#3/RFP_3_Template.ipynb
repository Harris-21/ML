{
 "cells": [
  {
   "cell_type": "markdown",
   "id": "fdb73e9d",
   "metadata": {},
   "source": [
    "# RFP: Maze Solvers\n",
    "\n",
    "## Project Overview\n",
    "You are invited to submit a proposal that answers the following question:\n",
    "\n",
    "### What path will your elf take?\n",
    "\n",
    "*Please submit your proposal by **2/11/25 at 11:59 PM**.*"
   ]
  },
  {
   "cell_type": "markdown",
   "id": "d88b6a60",
   "metadata": {},
   "source": [
    "## Required Proposal Components\n",
    "\n",
    "### 1. Data Description\n",
    "In the code cell below, use [Gymnasium](https://gymnasium.farama.org/) to set up a [Frozen Lake maze](https://gymnasium.farama.org/environments/toy_text/frozen_lake/) for your project. When you are done with the set up, describe the reward system you plan on using.\n",
    "\n",
    "*Note, a level 5 maze is at least 10 x 10 cells large and contains at least five lake cells.*"
   ]
  },
  {
   "cell_type": "code",
   "execution_count": null,
   "id": "afb6718e",
   "metadata": {},
   "outputs": [],
   "source": []
  },
  {
   "cell_type": "code",
   "execution_count": 1,
   "id": "8744bf04",
   "metadata": {},
   "outputs": [],
   "source": [
    "import gymnasium as gym"
   ]
  },
  {
   "cell_type": "code",
   "execution_count": null,
   "id": "34314a12",
   "metadata": {},
   "outputs": [],
   "source": [
    "# Make maze\n",
    "env = gym.make('FrozenLake-v1', render_mode='human')\n",
    "initial_state = env.reset()\n",
    "\n",
    "env.render()\n",
    "\n",
    "# Take a step (0: LEFT, 1: DOWN, 2: RIGHT, 3: UP)\n",
    "action = 2\n",
    "new_state, reward, terminated, truncated, info = env.step(action)\n",
    "\n",
    "env.render()"
   ]
  },
  {
   "cell_type": "code",
   "execution_count": null,
   "id": "0416596d",
   "metadata": {},
   "outputs": [],
   "source": [
    "env.close()"
   ]
  },
  {
   "cell_type": "markdown",
   "id": "c38ed9f9",
   "metadata": {},
   "source": [
    "#### Describe your reward system here."
   ]
  },
  {
   "cell_type": "markdown",
   "id": "67f80b3f",
   "metadata": {},
   "source": [
    "### 2. Training Your Model\n",
    "In the cell seen below, write the code you need to train a Q-Learning model. Display your final Q-table once you are done training your model.\n",
    "\n",
    "*Note, level 5 work uses only the standard Python library and Pandas to train your Q-Learning model. A level 4 uses external libraries like Baseline3.*"
   ]
  },
  {
   "cell_type": "code",
   "execution_count": null,
   "id": "73e62305",
   "metadata": {},
   "outputs": [],
   "source": [
    "import gymnasium as gym\n",
    "import numpy as np\n",
    "import pandas as pd\n",
    "\n",
    "env = gym.make('FrozenLake-v1', render_mode='human')\n",
    "initial_state = env.reset()\n",
    "\n",
    "num_states = env.observation_space.n\n",
    "num_actions = env.action_space.n\n",
    "q_table = np.zeros((num_states, num_actions))\n",
    "\n",
    "learning_rate = 0.1\n",
    "discount_factor = 0.99\n",
    "epsilon = 1.0\n",
    "epsilon_decay = 0.999\n",
    "min_epsilon = 0.01\n",
    "num_episodes = 10000\n",
    "\n",
    "for episode in range(num_episodes):\n",
    "    state = new_state, reward, terminated, truncated, info = env.step(action)\n",
    "    terminated = False\n",
    "    truncated = False"
   ]
  },
  {
   "cell_type": "markdown",
   "id": "3b912364",
   "metadata": {},
   "source": [
    "### 3. Testing Your Model\n",
    "In the cell seen below, write the code you need to test your Q-Learning model for **1000 episodes**. It is important to test your model for 1000 episodes so that we are all able to compare our results.\n",
    "\n",
    "*Note, level 5 testing uses both a success rate and an average steps taken metric to evaluate your model. Level 4 uses one or the other.*"
   ]
  },
  {
   "cell_type": "code",
   "execution_count": null,
   "id": "e30cf1dd",
   "metadata": {},
   "outputs": [],
   "source": [
    "import numpy as np\n",
    "\n",
    "def test_q_learning(env, q_table, num_episodes=1000, max_steps=100):\n",
    "    success_count = 0\n",
    "    total_steps = 0\n",
    "    \n",
    "    for episode in range(num_episodes):\n",
    "        state = env.reset()\n",
    "        done = False\n",
    "        steps = 0\n",
    "        \n",
    "        while not done and steps < max_steps:\n",
    "            action = np.argmax(q_table[state])  # Select best action from Q-table\n",
    "            next_state, reward, done, _ = env.step(action)\n",
    "            state = next_state\n",
    "            steps += 1\n",
    "        \n",
    "        total_steps += steps\n",
    "        if done and reward > 0:  # Assuming a positive reward indicates success\n",
    "            success_count += 1\n",
    "    \n",
    "    success_rate = success_count / num_episodes\n",
    "    avg_steps = total_steps / num_episodes\n",
    "    \n",
    "    print(f\"Success Rate: {success_rate * 100:.2f}%\")\n",
    "    print(f\"Average Steps Taken: {avg_steps:.2f}\")\n",
    "    \n",
    "    return success_rate, avg_steps"
   ]
  },
  {
   "cell_type": "code",
   "execution_count": null,
   "id": "2f36dd67",
   "metadata": {},
   "outputs": [],
   "source": []
  },
  {
   "cell_type": "markdown",
   "id": "78e7e09e",
   "metadata": {},
   "source": [
    "### 4. Final Answer\n",
    "In the first cell below, describe the path your elf takes to get to the gift. *Note, a level 5 answer includes a gif of the path your elf takes in order to reach the gift.*\n",
    "\n",
    "In the second cell seen below, describe how well your Q-Learning model performed. Make sure that you explicitly name the **learning rate**, **the discount factor**, and the **reward system** that you used when training your final model. *Note, a level 5 description describes the model's performance using two types of quantitative evidence.*"
   ]
  },
  {
   "cell_type": "markdown",
   "id": "9b6eef8e",
   "metadata": {},
   "source": [
    "![example image](https://gymnasium.farama.org/_images/frozen_lake.gif)"
   ]
  },
  {
   "cell_type": "markdown",
   "id": "54fdae15",
   "metadata": {},
   "source": [
    "#### Describe the path your elf takes here."
   ]
  },
  {
   "cell_type": "markdown",
   "id": "6b8f66ed",
   "metadata": {},
   "source": [
    "#### Describe how well your Q-Learning model performed here."
   ]
  },
  {
   "cell_type": "code",
   "execution_count": 12,
   "id": "7dbb3f7c",
   "metadata": {},
   "outputs": [
    {
     "name": "stdout",
     "output_type": "stream",
     "text": [
      "Training Completed.\n"
     ]
    }
   ],
   "source": [
    "import numpy as np  \n",
    "import random  \n",
    "\n",
    "# Environment parameters  \n",
    "grid_size = 3  \n",
    "goal_state = (0, 2)  # Flag cell  \n",
    "fire_state = (1, 2)  \n",
    "\n",
    "# Q-learning parameters  \n",
    "Q = np.zeros((grid_size, grid_size, 4))  # Q-table: 4 actions (0: up, 1: down, 2: left, 3: right)  \n",
    "alpha = 0.1  \n",
    "gamma = 0.9  \n",
    "epsilon = 1.0  \n",
    "epsilon_decay = 0.99  \n",
    "num_episodes = 1000  \n",
    "\n",
    "# Reward function  \n",
    "def get_reward(state):  \n",
    "    if state == goal_state:  \n",
    "        return 10  \n",
    "    elif state == fire_state:  \n",
    "        return -10  \n",
    "    else:  \n",
    "        return -1  \n",
    "\n",
    "# Choose action  \n",
    "def choose_action(state):  \n",
    "    if random.uniform(0, 1) < epsilon:  # Exploration  \n",
    "        return random.choice([0, 1, 2, 3])  # Random action  \n",
    "    else:  # Exploitation  \n",
    "        return np.argmax(Q[state[0], state[1]])  \n",
    "\n",
    "# Move robot based on action  \n",
    "def apply_action(state, action):  \n",
    "    if action == 0 and state[0] > 0:  # Up  \n",
    "        return (state[0] - 1, state[1])  \n",
    "    elif action == 1 and state[0] < grid_size - 1:  # Down  \n",
    "        return (state[0] + 1, state[1])  \n",
    "    elif action == 2 and state[1] > 0:  # Left  \n",
    "        return (state[0], state[1] - 1)  \n",
    "    elif action == 3 and state[1] < grid_size - 1:  # Right  \n",
    "        return (state[0], state[1] + 1)  \n",
    "    return state  # Invalid move  \n",
    "\n",
    "# Training Loop  \n",
    "for episode in range(num_episodes):  \n",
    "    state = (1, 0)  # Starting in the middle left cell  \n",
    "    while state != goal_state:  \n",
    "        action = choose_action(state)  \n",
    "        new_state = apply_action(state, action)  \n",
    "        reward = get_reward(new_state)  \n",
    "        \n",
    "        # Update Q-table  \n",
    "        Q[state[0], state[1], action] += alpha * (reward + gamma * np.max(Q[new_state[0], new_state[1]]) - Q[state[0], state[1], action])  \n",
    "        \n",
    "        state = new_state  \n",
    "    \n",
    "    # Decay epsilon  \n",
    "    epsilon *= epsilon_decay  \n",
    "    \n",
    "print(\"Training Completed.\")"
   ]
  },
  {
   "cell_type": "code",
   "execution_count": null,
   "id": "fb3156b4",
   "metadata": {},
   "outputs": [],
   "source": []
  },
  {
   "cell_type": "code",
   "execution_count": null,
   "id": "0e5b2693",
   "metadata": {},
   "outputs": [],
   "source": []
  }
 ],
 "metadata": {
  "kernelspec": {
   "display_name": "Python 3 (ipykernel)",
   "language": "python",
   "name": "python3"
  },
  "language_info": {
   "codemirror_mode": {
    "name": "ipython",
    "version": 3
   },
   "file_extension": ".py",
   "mimetype": "text/x-python",
   "name": "python",
   "nbconvert_exporter": "python",
   "pygments_lexer": "ipython3",
   "version": "3.9.13"
  }
 },
 "nbformat": 4,
 "nbformat_minor": 5
}
